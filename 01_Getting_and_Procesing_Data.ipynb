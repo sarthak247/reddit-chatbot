{
  "nbformat": 4,
  "nbformat_minor": 0,
  "metadata": {
    "colab": {
      "name": "01-Getting and Procesing Data.ipynb",
      "version": "0.3.2",
      "provenance": [],
      "include_colab_link": true
    },
    "kernelspec": {
      "name": "python3",
      "display_name": "Python 3"
    },
    "accelerator": "GPU"
  },
  "cells": [
    {
      "cell_type": "markdown",
      "metadata": {
        "id": "view-in-github",
        "colab_type": "text"
      },
      "source": [
        "<a href=\"https://colab.research.google.com/github/sarthak247/reddit-seq2seq/blob/master/01_Getting_and_Procesing_Data.ipynb\" target=\"_parent\"><img src=\"https://colab.research.google.com/assets/colab-badge.svg\" alt=\"Open In Colab\"/></a>"
      ]
    },
    {
      "metadata": {
        "id": "6aiapqXs3ysf",
        "colab_type": "text"
      },
      "cell_type": "markdown",
      "source": [
        "### Downloading Reddit Comments Dataset for January 2017"
      ]
    },
    {
      "metadata": {
        "id": "zwxK7lh837j_",
        "colab_type": "code",
        "colab": {
          "base_uri": "https://localhost:8080/",
          "height": 202
        },
        "outputId": "a1250f8d-c99c-4886-b836-19839152eda4"
      },
      "cell_type": "code",
      "source": [
        "!wget https://files.pushshift.io/reddit/comments/RC_2017-01.bz2"
      ],
      "execution_count": 21,
      "outputs": [
        {
          "output_type": "stream",
          "text": [
            "--2019-03-22 23:54:19--  https://files.pushshift.io/reddit/comments/RC_2017-01.bz2\n",
            "Resolving files.pushshift.io (files.pushshift.io)... 104.24.101.193, 104.24.100.193, 2606:4700:30::6818:64c1, ...\n",
            "Connecting to files.pushshift.io (files.pushshift.io)|104.24.101.193|:443... connected.\n",
            "HTTP request sent, awaiting response... 200 OK\n",
            "Length: 7812865355 (7.3G) [application/octet-stream]\n",
            "Saving to: ‘RC_2017-01.bz2.1’\n",
            "\n",
            "RC_2017-01.bz2.1    100%[===================>]   7.28G  11.6MB/s    in 10m 58s \n",
            "\n",
            "2019-03-23 00:05:18 (11.3 MB/s) - ‘RC_2017-01.bz2.1’ saved [7812865355/7812865355]\n",
            "\n"
          ],
          "name": "stdout"
        }
      ]
    },
    {
      "metadata": {
        "id": "yr5uFLZr4LBx",
        "colab_type": "text"
      },
      "cell_type": "markdown",
      "source": [
        "### Unzipping Dataset and Removing Original File"
      ]
    },
    {
      "metadata": {
        "id": "pyaW4gsK-_r7",
        "colab_type": "code",
        "colab": {
          "base_uri": "https://localhost:8080/",
          "height": 46
        },
        "outputId": "13b70c56-3b18-4a45-db84-d89063a98f27"
      },
      "cell_type": "code",
      "source": [
        "# Uncompressing Dataset\n",
        "!pv RC_2017-01.bz2 | bzip2 -d > RC_2017-01"
      ],
      "execution_count": 0,
      "outputs": [
        {
          "output_type": "stream",
          "text": [
            ""
          ],
          "name": "stdout"
        }
      ]
    },
    {
      "metadata": {
        "id": "1qTOasARFpDQ",
        "colab_type": "code",
        "colab": {}
      },
      "cell_type": "code",
      "source": [
        ""
      ],
      "execution_count": 0,
      "outputs": []
    }
  ]
}