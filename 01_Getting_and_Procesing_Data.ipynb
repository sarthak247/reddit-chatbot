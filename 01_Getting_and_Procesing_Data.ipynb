{
  "nbformat": 4,
  "nbformat_minor": 0,
  "metadata": {
    "colab": {
      "name": "01-Getting and Procesing Data.ipynb",
      "version": "0.3.2",
      "provenance": [],
      "toc_visible": true,
      "include_colab_link": true
    },
    "kernelspec": {
      "name": "python3",
      "display_name": "Python 3"
    },
    "accelerator": "GPU"
  },
  "cells": [
    {
      "cell_type": "markdown",
      "metadata": {
        "id": "view-in-github",
        "colab_type": "text"
      },
      "source": [
        "<a href=\"https://colab.research.google.com/github/sarthak247/reddit-seq2seq/blob/master/01_Getting_and_Procesing_Data.ipynb\" target=\"_parent\"><img src=\"https://colab.research.google.com/assets/colab-badge.svg\" alt=\"Open In Colab\"/></a>"
      ]
    },
    {
      "metadata": {
        "id": "6aiapqXs3ysf",
        "colab_type": "text"
      },
      "cell_type": "markdown",
      "source": [
        "### Mount Google Drive"
      ]
    },
    {
      "metadata": {
        "id": "I6WNjvMzEqow",
        "colab_type": "code",
        "colab": {}
      },
      "cell_type": "code",
      "source": [
        "from google.colab import drive\n",
        "drive.mount('content/drive')"
      ],
      "execution_count": 0,
      "outputs": []
    },
    {
      "metadata": {
        "id": "W5fnRuS8Efll",
        "colab_type": "text"
      },
      "cell_type": "markdown",
      "source": [
        "### Downloading Reddit Comments Dataset for January 2015"
      ]
    },
    {
      "metadata": {
        "id": "zwxK7lh837j_",
        "colab_type": "code",
        "outputId": "d21e545d-b23c-4ea4-8b23-da289b043edf",
        "colab": {
          "base_uri": "https://localhost:8080/",
          "height": 202
        }
      },
      "cell_type": "code",
      "source": [
        "!wget https://files.pushshift.io/reddit/comments/RC_2015-01.bz2"
      ],
      "execution_count": 4,
      "outputs": [
        {
          "output_type": "stream",
          "text": [
            "--2019-03-23 22:06:57--  https://files.pushshift.io/reddit/comments/RC_2015-01.bz2\n",
            "Resolving files.pushshift.io (files.pushshift.io)... 104.24.101.193, 104.24.100.193, 2606:4700:30::6818:65c1, ...\n",
            "Connecting to files.pushshift.io (files.pushshift.io)|104.24.101.193|:443... connected.\n",
            "HTTP request sent, awaiting response... 200 OK\n",
            "Length: 5452413560 (5.1G) [application/octet-stream]\n",
            "Saving to: ‘RC_2015-01.bz2’\n",
            "\n",
            "RC_2015-01.bz2      100%[===================>]   5.08G  11.7MB/s    in 13m 50s \n",
            "\n",
            "2019-03-23 22:20:48 (6.27 MB/s) - ‘RC_2015-01.bz2’ saved [5452413560/5452413560]\n",
            "\n"
          ],
          "name": "stdout"
        }
      ]
    },
    {
      "metadata": {
        "id": "yr5uFLZr4LBx",
        "colab_type": "text"
      },
      "cell_type": "markdown",
      "source": [
        "### Unzipping Dataset and Removing Original File"
      ]
    },
    {
      "metadata": {
        "id": "pyaW4gsK-_r7",
        "colab_type": "code",
        "colab": {}
      },
      "cell_type": "code",
      "source": [
        "# Uncompressing Dataset\n",
        "# This will take around 15-20 mins depending upon the size of dataset chosen\n",
        "!bzip2 -d RC_2015-01.bz2"
      ],
      "execution_count": 0,
      "outputs": []
    },
    {
      "metadata": {
        "id": "zwbdkRQijaaw",
        "colab_type": "text"
      },
      "cell_type": "markdown",
      "source": [
        "### Processing and Filtering out Data from the Dataset"
      ]
    },
    {
      "metadata": {
        "id": "Yc5fU9sojg4f",
        "colab_type": "code",
        "colab": {}
      },
      "cell_type": "code",
      "source": [
        "# Importing Required Libraries\n",
        "import sqlite3\n",
        "import json\n",
        "from datetime import datetime\n",
        "import re"
      ],
      "execution_count": 0,
      "outputs": []
    },
    {
      "metadata": {
        "id": "enmCaq78lqMX",
        "colab_type": "code",
        "colab": {}
      },
      "cell_type": "code",
      "source": [
        "# Connecting to SQL Database\n",
        "sql_transaction = []\n",
        "db = sqlite3.connect('RC_2015-01.db')\n",
        "c = db.cursor()"
      ],
      "execution_count": 0,
      "outputs": []
    },
    {
      "metadata": {
        "id": "24wzu66GmBqs",
        "colab_type": "code",
        "colab": {}
      },
      "cell_type": "code",
      "source": [
        "# Create table in DB\n",
        "def create_table():\n",
        "    c.execute(\"CREATE TABLE IF NOT EXISTS parent_reply(parent_id TEXT PRIMARY KEY, comment_id TEXT UNIQUE, parent TEXT, comment TEXT, subreddit TEXT, unix INT, score INT)\")"
      ],
      "execution_count": 0,
      "outputs": []
    },
    {
      "metadata": {
        "id": "QGHJqpO1mvOj",
        "colab_type": "code",
        "colab": {}
      },
      "cell_type": "code",
      "source": [
        "# Removing unwanted characters from data\n",
        "def clean_text(text):\n",
        "  text = text.lower()\n",
        "  text = re.sub(r\"i'm\",\"i am\", text)\n",
        "  text = re.sub(r\"he's\",\"he is\", text)\n",
        "  text = re.sub(r\"she's\",\"she is\", text)\n",
        "  text = re.sub(r\"that's\",\"that is\", text)\n",
        "  text = re.sub(r\"what's\",\"what is\", text)\n",
        "  text = re.sub(r\"where's\",\"where is\", text)\n",
        "  text = re.sub(r\"\\'ll\", \" will\", text)\n",
        "  text = re.sub(r\"\\'ve\", \" have\", text)\n",
        "  text = re.sub(r\"\\'re\", \" are\", text)\n",
        "  text = re.sub(r\"\\'d\", \" would\", text)\n",
        "  text = re.sub(r\"won't\", \"will not\", text)\n",
        "  text = re.sub(r\"can't\", \"cannot\", text)\n",
        "  text = re.sub(r\"[-()\\\"#/@;:<>{}+=~|.?,]\", \"\", text)\n",
        "  return text"
      ],
      "execution_count": 0,
      "outputs": []
    },
    {
      "metadata": {
        "id": "beMJGSO6nAI2",
        "colab_type": "code",
        "colab": {}
      },
      "cell_type": "code",
      "source": [
        "# Batch together a bunch of SQL statements\n",
        "def transaction_bldr(sql):\n",
        "  global sql_transaction\n",
        "  sql_transaction.append(sql)\n",
        "  \n",
        "  # Execute if batch exceeds 1000\n",
        "  if len(sql_transaction) > 1000:\n",
        "    c.execute('BEGIN TRANSACTION')\n",
        "    for s in sql_transaction:\n",
        "      try:\n",
        "        c.execute(s)\n",
        "      except:\n",
        "        pass\n",
        "    db.commit()\n",
        "    sql_transaction = []"
      ],
      "execution_count": 0,
      "outputs": []
    },
    {
      "metadata": {
        "id": "TVmZLMhZn-i1",
        "colab_type": "code",
        "colab": {}
      },
      "cell_type": "code",
      "source": [
        "# Replace the existing comment from the parent-comment pair if a new comment with a higher score shows up\n",
        "def sql_insert_replace_comment(commentid,parentid,parent,comment,subreddit,time,score):\n",
        "    try:\n",
        "        sql = \"\"\"UPDATE parent_reply SET parent_id = ?, comment_id = ?, parent = ?, comment = ?, subreddit = ?, unix = ?, score = ? WHERE parent_id =?;\"\"\".format(parentid, commentid, parent, comment, subreddit, int(time), score, parentid)\n",
        "        transaction_bldr(sql)\n",
        "    except Exception as e:\n",
        "        print('Insert Error: ',str(e))"
      ],
      "execution_count": 0,
      "outputs": []
    },
    {
      "metadata": {
        "id": "olCiGbjJqHcm",
        "colab_type": "code",
        "colab": {}
      },
      "cell_type": "code",
      "source": [
        "# Insert a parent-comment pair to the DB\n",
        "def sql_insert_has_parent(commentid,parentid,parent,comment,subreddit,time,score):\n",
        "    try:\n",
        "        sql = \"\"\"INSERT INTO parent_reply (parent_id, comment_id, parent, comment, subreddit, unix, score) VALUES (\"{}\",\"{}\",\"{}\",\"{}\",\"{}\",{},{});\"\"\".format(parentid, commentid, parent, comment, subreddit, int(time), score)\n",
        "        transaction_bldr(sql)\n",
        "    except Exception as e:\n",
        "        print('Insert Error: ',str(e))"
      ],
      "execution_count": 0,
      "outputs": []
    },
    {
      "metadata": {
        "id": "eWRDqCi3rJyn",
        "colab_type": "code",
        "colab": {}
      },
      "cell_type": "code",
      "source": [
        "# Insert only comment to the DB (ie, without a comment associated with it)\n",
        "def sql_insert_no_parent(commentid,parentid,comment,subreddit,time,score):\n",
        "    try:\n",
        "        sql = \"\"\"INSERT INTO parent_reply (parent_id, comment_id, comment, subreddit, unix, score) VALUES (\"{}\",\"{}\",\"{}\",\"{}\",{},{});\"\"\".format(parentid, commentid, comment, subreddit, int(time), score)\n",
        "        transaction_bldr(sql)\n",
        "    except Exception as e:\n",
        "        print('Insert Error: ',str(e))"
      ],
      "execution_count": 0,
      "outputs": []
    },
    {
      "metadata": {
        "id": "y3MAGpEksHPJ",
        "colab_type": "code",
        "colab": {}
      },
      "cell_type": "code",
      "source": [
        "# Check if a parent/comment is of acceptable length\n",
        "def acceptable(data):\n",
        "  if len(data.split(' ')) > 1000 or len(data) < 1:\n",
        "    return False\n",
        "  elif len(data) > 32000:\n",
        "    return False\n",
        "  elif data == '[deleted]':\n",
        "    return False\n",
        "  elif data == '[removed]':\n",
        "    return False\n",
        "  else:\n",
        "    return True"
      ],
      "execution_count": 0,
      "outputs": []
    },
    {
      "metadata": {
        "id": "u8Y0kv9dtePX",
        "colab_type": "code",
        "colab": {}
      },
      "cell_type": "code",
      "source": [
        "# Find a comment by it's comment_id\n",
        "def find_parent(pid):\n",
        "    try:\n",
        "        sql = \"SELECT comment FROM parent_reply WHERE comment_id = '{}' LIMIT 1\".format(pid)\n",
        "        c.execute(sql)\n",
        "        result = c.fetchone()\n",
        "        if result != None:\n",
        "            return result[0]\n",
        "        else: return False\n",
        "    except Exception as e:\n",
        "        return False"
      ],
      "execution_count": 0,
      "outputs": []
    },
    {
      "metadata": {
        "id": "aSnZwoUFugb7",
        "colab_type": "code",
        "colab": {}
      },
      "cell_type": "code",
      "source": [
        "# Find existing score of a comment/reply pair\n",
        "def find_existing_score(pid):\n",
        "    try:\n",
        "        sql = \"SELECT score FROM parent_reply WHERE parent_id = '{}' LIMIT 1\".format(pid)\n",
        "        c.execute(sql)\n",
        "        result = c.fetchone()\n",
        "        if result != None:\n",
        "            return result[0]\n",
        "        else: return False\n",
        "    except Exception as e:\n",
        "        return False"
      ],
      "execution_count": 0,
      "outputs": []
    },
    {
      "metadata": {
        "id": "ukHO9iIDvrL7",
        "colab_type": "text"
      },
      "cell_type": "markdown",
      "source": [
        "### Main Program"
      ]
    },
    {
      "metadata": {
        "id": "OvKeH71uvvDH",
        "colab_type": "code",
        "colab": {
          "base_uri": "https://localhost:8080/",
          "height": 565
        },
        "outputId": "73412a2a-60e1-402e-b71b-2775b618452d"
      },
      "cell_type": "code",
      "source": [
        "create_table()\n",
        "start_row = 0\n",
        "cleanup = 3000000 # Cleanup after every 3 million rows\n",
        "row_counter = 0\n",
        "paired_rows = 0\n",
        "\n",
        "with open('RC_2015-01',buffering = 1000) as dataset:\n",
        "  for row in dataset:\n",
        "    row_counter += 1\n",
        "    \n",
        "    if row_counter > start_row:\n",
        "      try:\n",
        "        row = json.loads(row)\n",
        "        parent_id = row['parent_id'].split('_')[1]\n",
        "        body = clean_text(row['body'])\n",
        "        created_utc = row['created_utc']\n",
        "        score = row['score']\n",
        "        subreddit = row['subreddit']\n",
        "        comment_id = row['id']\n",
        "        \n",
        "        parent_data = find_parent(parent_id)\n",
        "        \n",
        "        existing_reply_score = find_existing_score(parent_id)\n",
        "        if existing_reply_score:\n",
        "          if score > existing_reply_score:\n",
        "            if acceptable(body):\n",
        "              sql_insert_replace_comment(parent_id,comment_id,parent_data,body,subreddit,created_utc,score)\n",
        "        else:\n",
        "          if acceptable(body):\n",
        "            if parent_data:\n",
        "              if score >= 15:\n",
        "                sql_insert_has_parent(parent_id,comment_id,parent_data,body,subreddit,created_utc,score)\n",
        "                paired_rows += 1\n",
        "            else:\n",
        "              sql_insert_no_parent(parent_id,comment_id,body,subreddit,created_utc,score)\n",
        "      except Exception as e:\n",
        "        print('Error: ' + str(e))\n",
        "    \n",
        "    #Log\n",
        "    if row_counter % 100000 == 0:\n",
        "      print('Total Rows Read: {}, Paired Rows: {}, Time: {}'.format(row_counter,paired_rows,str(datetime.now())))\n",
        "\n",
        "    #Clean Up\n",
        "    if row_counter > start_row:\n",
        "      if row_counter % cleanup == 0:\n",
        "        print('Cleaning Up!')\n",
        "        sql = \"DELETE FROM reddit_comments WHERE PARENT IS NULL\"\n",
        "        c.execute(sql)\n",
        "        db.commit()\n",
        "        c.execute(\"VACUUM\")\n",
        "        db.commit()"
      ],
      "execution_count": 19,
      "outputs": [
        {
          "output_type": "stream",
          "text": [
            "Total Rows Read: 100000, Paired Rows: 3506, Time: 2019-03-24 00:19:01.589506\n",
            "Total Rows Read: 200000, Paired Rows: 6572, Time: 2019-03-24 00:19:12.860020\n",
            "Total Rows Read: 300000, Paired Rows: 7544, Time: 2019-03-24 00:19:24.922945\n",
            "Total Rows Read: 400000, Paired Rows: 7978, Time: 2019-03-24 00:19:37.033751\n",
            "Total Rows Read: 500000, Paired Rows: 8222, Time: 2019-03-24 00:19:49.243506\n",
            "Total Rows Read: 600000, Paired Rows: 8315, Time: 2019-03-24 00:20:01.549110\n",
            "Total Rows Read: 700000, Paired Rows: 8355, Time: 2019-03-24 00:20:13.835105\n",
            "Total Rows Read: 800000, Paired Rows: 8377, Time: 2019-03-24 00:20:26.029362\n",
            "Total Rows Read: 900000, Paired Rows: 8387, Time: 2019-03-24 00:20:38.199360\n",
            "Total Rows Read: 1000000, Paired Rows: 8388, Time: 2019-03-24 00:20:50.413468\n",
            "Total Rows Read: 1100000, Paired Rows: 8390, Time: 2019-03-24 00:21:02.595008\n",
            "Total Rows Read: 1200000, Paired Rows: 8393, Time: 2019-03-24 00:21:14.732668\n",
            "Total Rows Read: 1300000, Paired Rows: 8394, Time: 2019-03-24 00:21:26.989156\n"
          ],
          "name": "stdout"
        },
        {
          "output_type": "error",
          "ename": "KeyboardInterrupt",
          "evalue": "ignored",
          "traceback": [
            "\u001b[0;31m---------------------------------------------------------------------------\u001b[0m",
            "\u001b[0;31mKeyboardInterrupt\u001b[0m                         Traceback (most recent call last)",
            "\u001b[0;32m<ipython-input-19-ec8bb46e1f7b>\u001b[0m in \u001b[0;36m<module>\u001b[0;34m()\u001b[0m\n\u001b[1;32m     19\u001b[0m         \u001b[0mcomment_id\u001b[0m \u001b[0;34m=\u001b[0m \u001b[0mrow\u001b[0m\u001b[0;34m[\u001b[0m\u001b[0;34m'id'\u001b[0m\u001b[0;34m]\u001b[0m\u001b[0;34m\u001b[0m\u001b[0;34m\u001b[0m\u001b[0m\n\u001b[1;32m     20\u001b[0m \u001b[0;34m\u001b[0m\u001b[0m\n\u001b[0;32m---> 21\u001b[0;31m         \u001b[0mparent_data\u001b[0m \u001b[0;34m=\u001b[0m \u001b[0mfind_parent\u001b[0m\u001b[0;34m(\u001b[0m\u001b[0mparent_id\u001b[0m\u001b[0;34m)\u001b[0m\u001b[0;34m\u001b[0m\u001b[0;34m\u001b[0m\u001b[0m\n\u001b[0m\u001b[1;32m     22\u001b[0m \u001b[0;34m\u001b[0m\u001b[0m\n\u001b[1;32m     23\u001b[0m         \u001b[0mexisting_reply_score\u001b[0m \u001b[0;34m=\u001b[0m \u001b[0mfind_existing_score\u001b[0m\u001b[0;34m(\u001b[0m\u001b[0mparent_id\u001b[0m\u001b[0;34m)\u001b[0m\u001b[0;34m\u001b[0m\u001b[0;34m\u001b[0m\u001b[0m\n",
            "\u001b[0;32m<ipython-input-10-730cec185faf>\u001b[0m in \u001b[0;36mfind_parent\u001b[0;34m(pid)\u001b[0m\n\u001b[1;32m      2\u001b[0m     \u001b[0;32mtry\u001b[0m\u001b[0;34m:\u001b[0m\u001b[0;34m\u001b[0m\u001b[0;34m\u001b[0m\u001b[0m\n\u001b[1;32m      3\u001b[0m         \u001b[0msql\u001b[0m \u001b[0;34m=\u001b[0m \u001b[0;34m\"SELECT comment FROM parent_reply WHERE comment_id = '{}' LIMIT 1\"\u001b[0m\u001b[0;34m.\u001b[0m\u001b[0mformat\u001b[0m\u001b[0;34m(\u001b[0m\u001b[0mpid\u001b[0m\u001b[0;34m)\u001b[0m\u001b[0;34m\u001b[0m\u001b[0;34m\u001b[0m\u001b[0m\n\u001b[0;32m----> 4\u001b[0;31m         \u001b[0mc\u001b[0m\u001b[0;34m.\u001b[0m\u001b[0mexecute\u001b[0m\u001b[0;34m(\u001b[0m\u001b[0msql\u001b[0m\u001b[0;34m)\u001b[0m\u001b[0;34m\u001b[0m\u001b[0;34m\u001b[0m\u001b[0m\n\u001b[0m\u001b[1;32m      5\u001b[0m         \u001b[0mresult\u001b[0m \u001b[0;34m=\u001b[0m \u001b[0mc\u001b[0m\u001b[0;34m.\u001b[0m\u001b[0mfetchone\u001b[0m\u001b[0;34m(\u001b[0m\u001b[0;34m)\u001b[0m\u001b[0;34m\u001b[0m\u001b[0;34m\u001b[0m\u001b[0m\n\u001b[1;32m      6\u001b[0m         \u001b[0;32mif\u001b[0m \u001b[0mresult\u001b[0m \u001b[0;34m!=\u001b[0m \u001b[0;32mNone\u001b[0m\u001b[0;34m:\u001b[0m\u001b[0;34m\u001b[0m\u001b[0;34m\u001b[0m\u001b[0m\n",
            "\u001b[0;31mKeyboardInterrupt\u001b[0m: "
          ]
        }
      ]
    },
    {
      "metadata": {
        "id": "u6JMbF7mENAW",
        "colab_type": "text"
      },
      "cell_type": "markdown",
      "source": [
        "### Copy Database to Google Drive"
      ]
    },
    {
      "metadata": {
        "id": "NJ2946RZ7aEM",
        "colab_type": "code",
        "colab": {}
      },
      "cell_type": "code",
      "source": [
        "!cp RC_2015-01.db /content/drive/My\\ Drive"
      ],
      "execution_count": 0,
      "outputs": []
    }
  ]
}